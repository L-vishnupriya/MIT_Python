{
 "cells": [
  {
   "cell_type": "markdown",
   "id": "d2c84364-3d9d-490e-acb7-c355347e67bc",
   "metadata": {},
   "source": [
    "Comparison Operators:"
   ]
  },
  {
   "cell_type": "code",
   "execution_count": 1,
   "id": "99a5b2a1-1679-47d2-98e6-45a23a9aafcd",
   "metadata": {},
   "outputs": [
    {
     "data": {
      "text/plain": [
       "False"
      ]
     },
     "execution_count": 1,
     "metadata": {},
     "output_type": "execute_result"
    }
   ],
   "source": [
    "'a' == 'A'"
   ]
  },
  {
   "cell_type": "code",
   "execution_count": 3,
   "id": "d1de6851-b981-421f-97f4-3441a888f2fb",
   "metadata": {},
   "outputs": [
    {
     "name": "stdout",
     "output_type": "stream",
     "text": [
      "True\n",
      "False\n",
      "True\n",
      "False\n"
     ]
    }
   ],
   "source": [
    "print((2<3))\n",
    "print(not (2<3))\n",
    "print((2<3) and (3<4))\n",
    "print((2<3) and (3>4))"
   ]
  },
  {
   "cell_type": "code",
   "execution_count": 4,
   "id": "4c3179e5-badb-42ff-8f76-3663d4b44bac",
   "metadata": {},
   "outputs": [
    {
     "name": "stdout",
     "output_type": "stream",
     "text": [
      "False\n",
      "False\n"
     ]
    }
   ],
   "source": [
    "pset_time = 15\n",
    "sleep_time = 8\n",
    "print(sleep_time > pset_time)\n",
    "\n",
    "derive = True\n",
    "drink = False\n",
    "both = drink and derive\n",
    "print(both)"
   ]
  },
  {
   "cell_type": "markdown",
   "id": "87f0d93e-99f4-4d0b-8ad5-290e6d221ffa",
   "metadata": {},
   "source": [
    "TRY IT:\n"
   ]
  },
  {
   "cell_type": "code",
   "execution_count": null,
   "id": "20de7f3b-9621-4dcd-9bab-e75c8681484f",
   "metadata": {},
   "outputs": [],
   "source": [
    "secret = 5\n",
    "guess = int(input(\"Please guess a number\"))\n",
    "print(se)"
   ]
  }
 ],
 "metadata": {
  "kernelspec": {
   "display_name": "Python 3 (ipykernel)",
   "language": "python",
   "name": "python3"
  },
  "language_info": {
   "codemirror_mode": {
    "name": "ipython",
    "version": 3
   },
   "file_extension": ".py",
   "mimetype": "text/x-python",
   "name": "python",
   "nbconvert_exporter": "python",
   "pygments_lexer": "ipython3",
   "version": "3.11.7"
  }
 },
 "nbformat": 4,
 "nbformat_minor": 5
}
