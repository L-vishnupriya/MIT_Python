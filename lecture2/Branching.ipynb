{
 "cells": [
  {
   "cell_type": "markdown",
   "id": "d62a94af-de50-491a-9444-799f4b54ec2e",
   "metadata": {},
   "source": [
    "BRANCHING:"
   ]
  },
  {
   "cell_type": "code",
   "execution_count": 2,
   "id": "dd3bd8b3-17cf-4f8a-ad78-1ece9785dbd6",
   "metadata": {},
   "outputs": [
    {
     "name": "stdout",
     "output_type": "stream",
     "text": [
      "impossible!\n"
     ]
    }
   ],
   "source": [
    "pset_time = 22\n",
    "sleep_time = 8\n",
    "if (pset_time + sleep_time) > 24:\n",
    "     print(\"impossible!\")\n",
    "elif (pset_time + sleep_time) >= 24:\n",
    "    print(\"full schedule!\")\n",
    "else:\n",
    "    leftover = abs(24-pset_time-sleep_time)\n",
    "    print(leftover,\"h of free time!\")\n",
    "    print(\"end of day\")"
   ]
  },
  {
   "cell_type": "markdown",
   "id": "c16d84b5-3247-40cf-baa9-aeb9af873494",
   "metadata": {},
   "source": [
    "TRY IT: "
   ]
  },
  {
   "cell_type": "code",
   "execution_count": 4,
   "id": "7d53e29d-769a-486c-b99c-13bdac6a7c18",
   "metadata": {},
   "outputs": [
    {
     "name": "stdin",
     "output_type": "stream",
     "text": [
      "Enter a number for x:  3\n",
      "Enter a different number for y:  3\n"
     ]
    },
    {
     "name": "stdout",
     "output_type": "stream",
     "text": [
      "3 is the same as 3\n",
      "These are equal!\n"
     ]
    }
   ],
   "source": [
    "x = int(input(\"Enter a number for x: \"))\n",
    "y = int(input(\"Enter a different number for y: \"))\n",
    "\n",
    "if x == y:\n",
    "   print(x,\"is the same as\",y)\n",
    "   print(\"These are equal!\")"
   ]
  },
  {
   "cell_type": "markdown",
   "id": "fea6a4a3-95b0-4642-9ef2-92fff251ca35",
   "metadata": {},
   "source": [
    "Nested Branching:"
   ]
  },
  {
   "cell_type": "code",
   "execution_count": 5,
   "id": "1afc3cc5-7f19-40af-b865-8dd5bfa31f2f",
   "metadata": {},
   "outputs": [
    {
     "name": "stdin",
     "output_type": "stream",
     "text": [
      "Enter a number for x:  1.4\n",
      "Enter a number for y:  5.6\n"
     ]
    },
    {
     "name": "stdout",
     "output_type": "stream",
     "text": [
      "x is smaller\n",
      "thanks!\n"
     ]
    }
   ],
   "source": [
    "x = float(input(\"Enter a number for x: \"))\n",
    "y = float(input(\"Enter a number for y: \"))\n",
    "if x == y:\n",
    "    print(\"x and y are equal\")\n",
    "    if y != 0:\n",
    "       print(\"therefore, x / y is\", x/y)\n",
    "elif x < y:\n",
    "       print(\"x is smaller\")\n",
    "else:\n",
    "     print(\"y is smaller\")\n",
    "print(\"thanks!\")"
   ]
  },
  {
   "cell_type": "markdown",
   "id": "0d565151-670a-4386-824d-fb2d3a6379d7",
   "metadata": {},
   "source": [
    "TRY IT:"
   ]
  },
  {
   "cell_type": "code",
   "execution_count": null,
   "id": "aee24408-d001-44f2-bc44-ca2e42363a9f",
   "metadata": {},
   "outputs": [],
   "source": [
    "secret_num = 5\n",
    "guess = int(input(\"Enter you guess: \"))\n",
    "if guess == secret_num:\n",
    "    print(\"Both are equal\")\n",
    "elif guess > secret_num:\n",
    "    print(\"your guess is too high\")\n",
    "else:\n",
    "    print(\"your guess is too low\")"
   ]
  },
  {
   "cell_type": "code",
   "execution_count": null,
   "id": "217301e6-290d-4713-890a-5ca3e13be54c",
   "metadata": {},
   "outputs": [],
   "source": []
  }
 ],
 "metadata": {
  "kernelspec": {
   "display_name": "Python 3 (ipykernel)",
   "language": "python",
   "name": "python3"
  },
  "language_info": {
   "codemirror_mode": {
    "name": "ipython",
    "version": 3
   },
   "file_extension": ".py",
   "mimetype": "text/x-python",
   "name": "python",
   "nbconvert_exporter": "python",
   "pygments_lexer": "ipython3",
   "version": "3.11.7"
  }
 },
 "nbformat": 4,
 "nbformat_minor": 5
}
