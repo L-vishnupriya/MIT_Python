{
 "cells": [
  {
   "cell_type": "markdown",
   "id": "2ce17a38-1732-4535-b2b0-06129634c82c",
   "metadata": {},
   "source": [
    "INDEXING:"
   ]
  },
  {
   "cell_type": "code",
   "execution_count": 1,
   "id": "bcf33fb1-e58f-42b4-8d9f-811285907432",
   "metadata": {},
   "outputs": [
    {
     "data": {
      "text/plain": [
       "3"
      ]
     },
     "execution_count": 1,
     "metadata": {},
     "output_type": "execute_result"
    }
   ],
   "source": [
    "s = \"abc\"\n",
    "len(s)"
   ]
  },
  {
   "cell_type": "code",
   "execution_count": 3,
   "id": "0da2fcba-5218-4b99-a984-47641e5036d3",
   "metadata": {},
   "outputs": [
    {
     "name": "stdout",
     "output_type": "stream",
     "text": [
      "a\n",
      "b\n",
      "c\n"
     ]
    }
   ],
   "source": [
    "s = \"abc\"\n",
    "s[0]\n",
    "s[1]\n",
    "s[2]\n",
    "print(s[0])\n",
    "print(s[1])\n",
    "print(s[2])"
   ]
  },
  {
   "cell_type": "code",
   "execution_count": null,
   "id": "12eecdd3-4da3-4163-b16b-9a8113893e76",
   "metadata": {},
   "outputs": [],
   "source": [
    "s[-1]\n",
    "s[-2]\n"
   ]
  }
 ],
 "metadata": {
  "kernelspec": {
   "display_name": "Python 3 (ipykernel)",
   "language": "python",
   "name": "python3"
  },
  "language_info": {
   "codemirror_mode": {
    "name": "ipython",
    "version": 3
   },
   "file_extension": ".py",
   "mimetype": "text/x-python",
   "name": "python",
   "nbconvert_exporter": "python",
   "pygments_lexer": "ipython3",
   "version": "3.11.7"
  }
 },
 "nbformat": 4,
 "nbformat_minor": 5
}
