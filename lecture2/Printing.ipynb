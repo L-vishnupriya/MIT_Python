{
 "cells": [
  {
   "cell_type": "markdown",
   "id": "27fbc708-d14c-405a-b2b4-74be9dec6685",
   "metadata": {},
   "source": [
    "Printing many objects in same command:"
   ]
  },
  {
   "cell_type": "code",
   "execution_count": 1,
   "id": "f20487bd-5425-40a6-98a5-a0074287d0fc",
   "metadata": {},
   "outputs": [
    {
     "name": "stdout",
     "output_type": "stream",
     "text": [
      "the 3 musketeers\n"
     ]
    }
   ],
   "source": [
    "a = \"the\"\n",
    "b = 3\n",
    "c = \"musketeers\"\n",
    "\n",
    "print(a,b,c)"
   ]
  },
  {
   "cell_type": "code",
   "execution_count": 2,
   "id": "e9b0275c-d1dc-4717-8336-8be28c189ad7",
   "metadata": {},
   "outputs": [
    {
     "name": "stdout",
     "output_type": "stream",
     "text": [
      "the3musketeers\n"
     ]
    }
   ],
   "source": [
    "print(a + str(b) + c)"
   ]
  },
  {
   "cell_type": "code",
   "execution_count": null,
   "id": "e0e8268f-ab34-452c-b27b-e53a3817da9f",
   "metadata": {},
   "outputs": [],
   "source": []
  }
 ],
 "metadata": {
  "kernelspec": {
   "display_name": "Python 3 (ipykernel)",
   "language": "python",
   "name": "python3"
  },
  "language_info": {
   "codemirror_mode": {
    "name": "ipython",
    "version": 3
   },
   "file_extension": ".py",
   "mimetype": "text/x-python",
   "name": "python",
   "nbconvert_exporter": "python",
   "pygments_lexer": "ipython3",
   "version": "3.11.7"
  }
 },
 "nbformat": 4,
 "nbformat_minor": 5
}
