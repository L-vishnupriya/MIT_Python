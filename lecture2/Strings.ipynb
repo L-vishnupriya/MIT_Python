{
 "cells": [
  {
   "cell_type": "markdown",
   "id": "5e6093bf-8ce6-426b-820e-79de1809b342",
   "metadata": {},
   "source": [
    "STRINGS:"
   ]
  },
  {
   "cell_type": "code",
   "execution_count": 1,
   "id": "9402571f-598c-48c2-9027-29de84228363",
   "metadata": {},
   "outputs": [],
   "source": [
    "a = 'me'\n",
    "b = \"myself\"\n",
    "c = a + b\n",
    "d = a + \" \" + b\n",
    "silly = a * 3"
   ]
  },
  {
   "cell_type": "code",
   "execution_count": 2,
   "id": "0b04d991-0e28-4e5a-8da7-5a3f6186f69f",
   "metadata": {},
   "outputs": [
    {
     "name": "stdout",
     "output_type": "stream",
     "text": [
      "memyself\n",
      "me myself\n",
      "mememe\n"
     ]
    }
   ],
   "source": [
    "print(c)\n",
    "print(d)\n",
    "print(silly)"
   ]
  },
  {
   "cell_type": "markdown",
   "id": "8c495852-fd85-4041-9a41-0cc92c6a6c96",
   "metadata": {},
   "source": [
    "TRY IT:"
   ]
  },
  {
   "cell_type": "code",
   "execution_count": 3,
   "id": "a0621f13-89bd-457d-9ec9-51963d320d59",
   "metadata": {},
   "outputs": [],
   "source": [
    "b = \":\"\n",
    "c = \")\"\n",
    "s1 = b + 2*c"
   ]
  },
  {
   "cell_type": "code",
   "execution_count": 4,
   "id": "fed2ba53-ca92-49e6-99a2-aecba5131ae7",
   "metadata": {},
   "outputs": [
    {
     "name": "stdout",
     "output_type": "stream",
     "text": [
      ":))\n"
     ]
    }
   ],
   "source": [
    "print(s1)"
   ]
  },
  {
   "cell_type": "code",
   "execution_count": null,
   "id": "78cc9d0a-1418-47ed-800f-8c67a7607bb1",
   "metadata": {},
   "outputs": [],
   "source": [
    "f = \"a\"\n",
    "g = \"b\"\n",
    "h = \"3\"\n",
    "s"
   ]
  }
 ],
 "metadata": {
  "kernelspec": {
   "display_name": "Python 3 (ipykernel)",
   "language": "python",
   "name": "python3"
  },
  "language_info": {
   "codemirror_mode": {
    "name": "ipython",
    "version": 3
   },
   "file_extension": ".py",
   "mimetype": "text/x-python",
   "name": "python",
   "nbconvert_exporter": "python",
   "pygments_lexer": "ipython3",
   "version": "3.11.7"
  }
 },
 "nbformat": 4,
 "nbformat_minor": 5
}
