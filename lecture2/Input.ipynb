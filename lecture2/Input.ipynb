{
 "cells": [
  {
   "cell_type": "markdown",
   "id": "8a857630-6462-43a8-8e17-fc9f0cf08792",
   "metadata": {},
   "source": [
    "INPUT:"
   ]
  },
  {
   "cell_type": "code",
   "execution_count": 2,
   "id": "e0735972-c255-434f-804a-e7f5a99fd6dc",
   "metadata": {},
   "outputs": [
    {
     "name": "stdin",
     "output_type": "stream",
     "text": [
      "Type a number: 4\n"
     ]
    },
    {
     "name": "stdout",
     "output_type": "stream",
     "text": [
      "44444\n"
     ]
    }
   ],
   "source": [
    "num2 = input(\"Type a number:\")\n",
    "print(5*num2)"
   ]
  },
  {
   "cell_type": "code",
   "execution_count": 3,
   "id": "df962c8c-79ff-46e2-85b0-837b6708ed56",
   "metadata": {},
   "outputs": [
    {
     "name": "stdin",
     "output_type": "stream",
     "text": [
      "Type a number: 5\n"
     ]
    },
    {
     "name": "stdout",
     "output_type": "stream",
     "text": [
      "25\n"
     ]
    }
   ],
   "source": [
    "num2 = int(input(\"Type a number:\"))\n",
    "print(5*num2)"
   ]
  },
  {
   "cell_type": "markdown",
   "id": "20bca755-f6a3-4ae1-a3e2-756f678551d1",
   "metadata": {},
   "source": [
    "TRY IT:"
   ]
  },
  {
   "cell_type": "code",
   "execution_count": 5,
   "id": "d189a144-e27f-4196-85e9-7c0d94ddaec6",
   "metadata": {},
   "outputs": [
    {
     "name": "stdin",
     "output_type": "stream",
     "text": [
      "Choose a verb:  always\n"
     ]
    },
    {
     "name": "stdout",
     "output_type": "stream",
     "text": [
      "I can always better than you!\n",
      "always always always always always \n"
     ]
    }
   ],
   "source": [
    "question = input('Choose a verb: ')\n",
    "print('I can' ,question, 'better than you!')\n",
    "print((question+' ')*5)"
   ]
  },
  {
   "cell_type": "markdown",
   "id": "50c8dbca-534d-4c69-a747-10df06529f4f",
   "metadata": {},
   "source": [
    "IMPORTANT ALGORITHM:\n",
    "\n",
    "newton's Method\n",
    "\n",
    "* Find roots of a polynomial\n",
    "  \n",
    "      f(g,x)=g^3-x=0\n",
    "  \n",
    "* Algorithm uses successive approximation\n",
    "  \n",
    "      next_guess = guess - f(guess)/f'(guess)"
   ]
  },
  {
   "cell_type": "code",
   "execution_count": 6,
   "id": "2db85a24-f466-4c80-a916-d26fecd92be9",
   "metadata": {},
   "outputs": [
    {
     "name": "stdin",
     "output_type": "stream",
     "text": [
      "what x to find the cube root of 4\n",
      "what guess to start with? 5\n"
     ]
    },
    {
     "name": "stdout",
     "output_type": "stream",
     "text": [
      "current estimate cubed= 125\n",
      "Next guess to try =  3.3866666666666667\n"
     ]
    }
   ],
   "source": [
    "x = int(input('what x to find the cube root of'))\n",
    "g = int(input('what guess to start with?'))\n",
    "print('current estimate cubed=', g**3)\n",
    "\n",
    "next_g = g - ((g**3 - x) / (3*g**2))\n",
    "print('Next guess to try = ', next_g)"
   ]
  },
  {
   "cell_type": "markdown",
   "id": "de025d4f-fc03-41eb-814f-7052b3892eea",
   "metadata": {},
   "source": [
    "F-Strings"
   ]
  },
  {
   "cell_type": "code",
   "execution_count": null,
   "id": "d08e4d72-c681-45f1-bde4-f6b0aee674ee",
   "metadata": {},
   "outputs": [],
   "source": [
    "num = 3000\n",
    "fraction = 1/3\n",
    "print(num*fraction, 'is', fraction*100, '% of', num)\n",
    "print(num*fraction, 'is', str(fraction*100) + '% of', num)\n",
    "print(f'{num*fraction} is {fraction*100})"
   ]
  }
 ],
 "metadata": {
  "kernelspec": {
   "display_name": "Python 3 (ipykernel)",
   "language": "python",
   "name": "python3"
  },
  "language_info": {
   "codemirror_mode": {
    "name": "ipython",
    "version": 3
   },
   "file_extension": ".py",
   "mimetype": "text/x-python",
   "name": "python",
   "nbconvert_exporter": "python",
   "pygments_lexer": "ipython3",
   "version": "3.11.7"
  }
 },
 "nbformat": 4,
 "nbformat_minor": 5
}
