{
 "cells": [
  {
   "cell_type": "markdown",
   "id": "46b9d944-d96f-40ce-8858-678cdbae204b",
   "metadata": {},
   "source": [
    "Decomposition, Abstraction, Functions:"
   ]
  },
  {
   "cell_type": "code",
   "execution_count": 22,
   "id": "c43f6a6f-7602-410a-861f-866f02ed7681",
   "metadata": {},
   "outputs": [
    {
     "name": "stdout",
     "output_type": "stream",
     "text": [
      "False\n",
      "True\n"
     ]
    }
   ],
   "source": [
    "def is_even(i):   \n",
    "    \"\"\"Assumes: i, a positive int\n",
    "    Returns True if i is even, otherwise False\"\"\"\n",
    "    if i%2 == 0:\n",
    "        return True\n",
    "    else:\n",
    "        return False\n",
    "\n",
    "print(is_even(3))\n",
    "print(is_even(8))"
   ]
  },
  {
   "cell_type": "code",
   "execution_count": 23,
   "id": "af9aad73-fea3-434f-812e-8b5aec441faa",
   "metadata": {},
   "outputs": [
    {
     "name": "stdout",
     "output_type": "stream",
     "text": [
      "False\n",
      "None\n"
     ]
    }
   ],
   "source": [
    "def div_by(n, d):\n",
    "    if d%n == 0:\n",
    "        print(True)\n",
    "    else:\n",
    "        print(False)\n",
    "\n",
    "print(div_by(10, 3))"
   ]
  },
  {
   "cell_type": "code",
   "execution_count": 25,
   "id": "6c6d613f-75cc-461b-82a7-5a38ba8be8f7",
   "metadata": {},
   "outputs": [
    {
     "name": "stdout",
     "output_type": "stream",
     "text": [
      "False\n",
      "False\n"
     ]
    }
   ],
   "source": [
    "def div_by(n, d):\n",
    "    if d%n == 0:\n",
    "        return True\n",
    "    else:\n",
    "        return False\n",
    "\n",
    "print(div_by(10, 3))\n",
    "print(div_by(195, 13))"
   ]
  },
  {
   "cell_type": "code",
   "execution_count": 26,
   "id": "20c6c24c-6559-43ca-ba50-ef201bd85dee",
   "metadata": {},
   "outputs": [
    {
     "name": "stdout",
     "output_type": "stream",
     "text": [
      "False\n",
      "True\n"
     ]
    }
   ],
   "source": [
    "def div_by(n, d):\n",
    "    if n%d == 0:\n",
    "        return True\n",
    "    else:\n",
    "        return False\n",
    "\n",
    "print(div_by(10, 3))\n",
    "print(div_by(195, 13))"
   ]
  },
  {
   "cell_type": "code",
   "execution_count": 29,
   "id": "13af3eb3-d923-48a5-bb63-1a19d6bf7fa9",
   "metadata": {},
   "outputs": [
    {
     "name": "stdout",
     "output_type": "stream",
     "text": [
      "2 2\n",
      "4 6\n",
      "6\n",
      "2 2\n",
      "4 6\n",
      "6 12\n",
      "12\n"
     ]
    }
   ],
   "source": [
    "def sum_odd(a, b):\n",
    "    sum_of_odds = 0\n",
    "    for i in range(a, b+1):\n",
    "        if i%2 == 0:\n",
    "            sum_of_odds += i\n",
    "            print(i, sum_of_odds)\n",
    "    return sum_of_odds\n",
    "print(sum_odd(2,4)) \n",
    "print(sum_odd(2,7)) \n"
   ]
  },
  {
   "cell_type": "code",
   "execution_count": 30,
   "id": "52dcec74-6cbf-4077-b971-f0a7bc2ef27a",
   "metadata": {},
   "outputs": [
    {
     "name": "stdout",
     "output_type": "stream",
     "text": [
      "3\n",
      "15\n"
     ]
    }
   ],
   "source": [
    "def sum_odd(a, b):\n",
    "    sum_of_odds = 0\n",
    "    i = a\n",
    "    while i <= b:\n",
    "        if i%2 == 1:\n",
    "            sum_of_odds += i\n",
    "        i += 1\n",
    "    return sum_of_odds\n",
    "\n",
    "print(sum_odd(2,4)) \n",
    "print(sum_odd(2,7))"
   ]
  },
  {
   "cell_type": "code",
   "execution_count": 32,
   "id": "3ee64f5b-5d70-4ee9-b33a-757910ea80b6",
   "metadata": {},
   "outputs": [
    {
     "name": "stdout",
     "output_type": "stream",
     "text": [
      "3\n",
      "6\n",
      "-1\n"
     ]
    }
   ],
   "source": [
    "def first_to_last_diff(s, c):\n",
    "    \n",
    "    if c not in s:\n",
    "        return -1\n",
    "    # if reach here, c is in s\n",
    "    for i in range(len(s)):\n",
    "        if s[i]==c:\n",
    "            # break here to save i as the first instance of c in s\n",
    "            break\n",
    "    # loop through s backwards\n",
    "    for j in range(len(s)-1,-1,-1):\n",
    "        if s[j]==c:\n",
    "            # break here to save j as the last instance of c in s\n",
    "            break\n",
    "    # this return is ok becasue the loops iterated through indices not chars of s\n",
    "    return j-i\n",
    "\n",
    "# For example\n",
    "print(first_to_last_diff('aaaa', 'a'))  # prints 3\n",
    "print(first_to_last_diff('abcabcabc', 'b'))  # prints 6\n",
    "print(first_to_last_diff('xyz', 'b'))  # prints -1"
   ]
  },
  {
   "cell_type": "code",
   "execution_count": 27,
   "id": "0a09c88e-2262-4226-a75c-f645e3e62589",
   "metadata": {},
   "outputs": [
    {
     "name": "stdout",
     "output_type": "stream",
     "text": [
      "1 odd\n",
      "2 even\n",
      "3 odd\n",
      "4 even\n",
      "5 odd\n",
      "6 even\n",
      "7 odd\n",
      "8 even\n",
      "9 odd\n"
     ]
    }
   ],
   "source": [
    "for i in range(1, 10):\n",
    "    if is_even(i):\n",
    "        print(i, \"even\")\n",
    "\n",
    "    else:\n",
    "        print(i, \"odd\")"
   ]
  },
  {
   "cell_type": "code",
   "execution_count": null,
   "id": "0bcac156-9e80-429b-91e2-a7c24ce2c06d",
   "metadata": {},
   "outputs": [],
   "source": []
  }
 ],
 "metadata": {
  "kernelspec": {
   "display_name": "Python 3 (ipykernel)",
   "language": "python",
   "name": "python3"
  },
  "language_info": {
   "codemirror_mode": {
    "name": "ipython",
    "version": 3
   },
   "file_extension": ".py",
   "mimetype": "text/x-python",
   "name": "python",
   "nbconvert_exporter": "python",
   "pygments_lexer": "ipython3",
   "version": "3.11.7"
  }
 },
 "nbformat": 4,
 "nbformat_minor": 5
}
