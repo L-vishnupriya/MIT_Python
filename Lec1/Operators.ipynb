{
 "cells": [
  {
   "cell_type": "markdown",
   "id": "bbef5eeb-c4ba-42b0-83a8-85e4764a0b53",
   "metadata": {},
   "source": [
    "Operators on int and float:"
   ]
  },
  {
   "cell_type": "code",
   "execution_count": 1,
   "id": "086af861-858e-4db2-9a81-3a22abe87d25",
   "metadata": {},
   "outputs": [
    {
     "name": "stdout",
     "output_type": "stream",
     "text": [
      "1.6666666666666667\n",
      "1\n"
     ]
    }
   ],
   "source": [
    "print(5/3)\n",
    "print(5//3)"
   ]
  },
  {
   "cell_type": "code",
   "execution_count": 2,
   "id": "8041a769-6e57-46ec-9687-a6146f7fb52d",
   "metadata": {},
   "outputs": [
    {
     "name": "stdout",
     "output_type": "stream",
     "text": [
      "2\n"
     ]
    }
   ],
   "source": [
    "print(5%3)"
   ]
  },
  {
   "cell_type": "code",
   "execution_count": 3,
   "id": "5a4873b4-b974-4b22-b9eb-83df775f0faf",
   "metadata": {},
   "outputs": [
    {
     "name": "stdout",
     "output_type": "stream",
     "text": [
      "8\n",
      "8.0\n"
     ]
    }
   ],
   "source": [
    "print(2**3)\n",
    "print(2**3.0)"
   ]
  },
  {
   "cell_type": "code",
   "execution_count": null,
   "id": "867fb8ed-71a4-4a36-b08e-ed6b476f5f77",
   "metadata": {},
   "outputs": [],
   "source": []
  }
 ],
 "metadata": {
  "kernelspec": {
   "display_name": "Python 3 (ipykernel)",
   "language": "python",
   "name": "python3"
  },
  "language_info": {
   "codemirror_mode": {
    "name": "ipython",
    "version": 3
   },
   "file_extension": ".py",
   "mimetype": "text/x-python",
   "name": "python",
   "nbconvert_exporter": "python",
   "pygments_lexer": "ipython3",
   "version": "3.11.7"
  }
 },
 "nbformat": 4,
 "nbformat_minor": 5
}
