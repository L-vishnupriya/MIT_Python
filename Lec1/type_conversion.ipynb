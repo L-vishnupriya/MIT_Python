{
 "cells": [
  {
   "cell_type": "markdown",
   "id": "304fbc8e-b301-4a2f-85b9-8b9b4ac76549",
   "metadata": {},
   "source": [
    "TYPE CONVERSION:"
   ]
  },
  {
   "cell_type": "code",
   "execution_count": 1,
   "id": "0541b488-1749-4975-984e-20f1bdbb8e28",
   "metadata": {},
   "outputs": [
    {
     "name": "stdout",
     "output_type": "stream",
     "text": [
      "3.0\n"
     ]
    }
   ],
   "source": [
    "print(float(3))"
   ]
  },
  {
   "cell_type": "code",
   "execution_count": 3,
   "id": "eb3b00bc-f8b3-484e-842d-542908a033a9",
   "metadata": {},
   "outputs": [
    {
     "name": "stdout",
     "output_type": "stream",
     "text": [
      "5\n",
      "5\n"
     ]
    }
   ],
   "source": [
    "print(int(5.2))\n",
    "print(int(5.9))"
   ]
  },
  {
   "cell_type": "code",
   "execution_count": 6,
   "id": "e20bad29-e286-4d03-89ff-7924dc555e5f",
   "metadata": {},
   "outputs": [
    {
     "name": "stdout",
     "output_type": "stream",
     "text": [
      "6\n",
      "5\n"
     ]
    }
   ],
   "source": [
    "print(round(5.9))\n",
    "print(round(5.4))"
   ]
  },
  {
   "cell_type": "markdown",
   "id": "701d4f84-b5d1-47d9-b48d-4bf47f84281a",
   "metadata": {},
   "source": [
    "TRY IT:"
   ]
  },
  {
   "cell_type": "code",
   "execution_count": 7,
   "id": "210047c7-bf23-44a4-8955-ad8231c6b927",
   "metadata": {},
   "outputs": [
    {
     "name": "stdout",
     "output_type": "stream",
     "text": [
      "123.0\n",
      "8\n",
      "6.0\n",
      "7\n",
      "7\n"
     ]
    }
   ],
   "source": [
    "print(float(123))\n",
    "print(round(7.9))\n",
    "print(float(round(5.9)))\n",
    "print(int(7.2))\n",
    "print(int(7.9))"
   ]
  },
  {
   "cell_type": "code",
   "execution_count": null,
   "id": "f55066ea-a61c-4485-b791-76b4cdeffdd7",
   "metadata": {},
   "outputs": [],
   "source": []
  }
 ],
 "metadata": {
  "kernelspec": {
   "display_name": "Python 3 (ipykernel)",
   "language": "python",
   "name": "python3"
  },
  "language_info": {
   "codemirror_mode": {
    "name": "ipython",
    "version": 3
   },
   "file_extension": ".py",
   "mimetype": "text/x-python",
   "name": "python",
   "nbconvert_exporter": "python",
   "pygments_lexer": "ipython3",
   "version": "3.11.7"
  }
 },
 "nbformat": 4,
 "nbformat_minor": 5
}
