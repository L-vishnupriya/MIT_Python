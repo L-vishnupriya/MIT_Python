{
 "cells": [
  {
   "cell_type": "markdown",
   "id": "8bbbced4-6775-49ca-a9a4-23642fca0855",
   "metadata": {},
   "source": [
    "Variables:"
   ]
  },
  {
   "cell_type": "code",
   "execution_count": 3,
   "id": "1b29500e-cf57-48e2-811c-9d61bbd9c0ba",
   "metadata": {},
   "outputs": [
    {
     "name": "stdout",
     "output_type": "stream",
     "text": [
      "7\n"
     ]
    }
   ],
   "source": [
    "xy = 3+4\n",
    "print(xy)"
   ]
  },
  {
   "cell_type": "code",
   "execution_count": 4,
   "id": "762e26d9-463f-42ec-9bfe-221279cf0e1d",
   "metadata": {},
   "outputs": [
    {
     "data": {
      "text/plain": [
       "8"
      ]
     },
     "execution_count": 4,
     "metadata": {},
     "output_type": "execute_result"
    }
   ],
   "source": [
    "xy + 1"
   ]
  },
  {
   "cell_type": "markdown",
   "id": "0c8761cf-137e-4347-81b4-47139145f9fc",
   "metadata": {},
   "source": [
    "Abstracting Expressions:\n"
   ]
  },
  {
   "cell_type": "code",
   "execution_count": 5,
   "id": "78a169bc-ba67-4768-9aab-aa40e164c3dd",
   "metadata": {},
   "outputs": [],
   "source": [
    "pi = 355/113\n",
    "radius = 2.2\n",
    "area = pi*(radius**2)\n",
    "circumference = pi*(radius*2)"
   ]
  },
  {
   "cell_type": "code",
   "execution_count": 6,
   "id": "bffc35de-09f1-4f31-8c5b-220a16f4554e",
   "metadata": {},
   "outputs": [
    {
     "name": "stdout",
     "output_type": "stream",
     "text": [
      "15.205309734513278\n",
      "13.823008849557525\n"
     ]
    }
   ],
   "source": [
    "print(area)\n",
    "print(circumference)"
   ]
  },
  {
   "cell_type": "markdown",
   "id": "335ff9da-770b-42e4-913a-6e0badc39d32",
   "metadata": {},
   "source": [
    "TRY IT:"
   ]
  },
  {
   "cell_type": "code",
   "execution_count": 9,
   "id": "86bad241-ab0a-48cf-94a2-aaa109b67df0",
   "metadata": {},
   "outputs": [
    {
     "name": "stdout",
     "output_type": "stream",
     "text": [
      "328.08000000000004\n"
     ]
    }
   ],
   "source": [
    "meters = 100\n",
    "feet = 3.2808 * meters\n",
    "print(feet)"
   ]
  },
  {
   "cell_type": "code",
   "execution_count": 10,
   "id": "5d8f714d-166e-4b82-bd0a-8c366c6b7ca0",
   "metadata": {},
   "outputs": [],
   "source": [
    "x = 1\n",
    "y = 2"
   ]
  },
  {
   "cell_type": "code",
   "execution_count": 11,
   "id": "907aae35-8b3c-4be6-8be1-3375441896d7",
   "metadata": {},
   "outputs": [
    {
     "name": "stdout",
     "output_type": "stream",
     "text": [
      "1\n",
      "2\n"
     ]
    }
   ],
   "source": [
    "print(x)\n",
    "print(y)"
   ]
  },
  {
   "cell_type": "code",
   "execution_count": 12,
   "id": "83e8fcc2-d929-4016-9886-c83328a96bb6",
   "metadata": {},
   "outputs": [],
   "source": [
    "y = x\n",
    "x = y"
   ]
  },
  {
   "cell_type": "code",
   "execution_count": 13,
   "id": "f1f13d70-cb80-43e1-a6a6-81763744cd32",
   "metadata": {},
   "outputs": [
    {
     "name": "stdout",
     "output_type": "stream",
     "text": [
      "1\n",
      "1\n"
     ]
    }
   ],
   "source": [
    "print(y)\n",
    "print(x)"
   ]
  },
  {
   "cell_type": "code",
   "execution_count": null,
   "id": "438f07e0-42bd-460c-8709-ecff94098379",
   "metadata": {},
   "outputs": [],
   "source": []
  }
 ],
 "metadata": {
  "kernelspec": {
   "display_name": "Python 3 (ipykernel)",
   "language": "python",
   "name": "python3"
  },
  "language_info": {
   "codemirror_mode": {
    "name": "ipython",
    "version": 3
   },
   "file_extension": ".py",
   "mimetype": "text/x-python",
   "name": "python",
   "nbconvert_exporter": "python",
   "pygments_lexer": "ipython3",
   "version": "3.11.7"
  }
 },
 "nbformat": 4,
 "nbformat_minor": 5
}
