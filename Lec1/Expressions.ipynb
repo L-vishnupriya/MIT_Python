{
 "cells": [
  {
   "cell_type": "markdown",
   "id": "4b07ebd0-4dde-4105-8cdb-f8bfef40c04d",
   "metadata": {},
   "source": [
    "EXPRESSIONS:"
   ]
  },
  {
   "cell_type": "code",
   "execution_count": 1,
   "id": "974ff003-5571-45ea-978f-ee79b05b1eef",
   "metadata": {},
   "outputs": [
    {
     "name": "stdout",
     "output_type": "stream",
     "text": [
      "5\n",
      "35\n"
     ]
    }
   ],
   "source": [
    "print(3+2)\n",
    "print((4+2)*6-1)"
   ]
  },
  {
   "cell_type": "code",
   "execution_count": 2,
   "id": "ae970596-a470-4b86-acde-3776abc8006a",
   "metadata": {},
   "outputs": [
    {
     "name": "stdout",
     "output_type": "stream",
     "text": [
      "<class 'int'>\n",
      "35.0\n"
     ]
    }
   ],
   "source": [
    "print(type((4+2)*6-1))\n",
    "print(float((4+2)*6-1))"
   ]
  },
  {
   "cell_type": "markdown",
   "id": "876e181c-b628-4552-9bbf-9a23868089a1",
   "metadata": {},
   "source": [
    "TRY IT:"
   ]
  },
  {
   "cell_type": "code",
   "execution_count": 3,
   "id": "20b041e3-cc5b-4129-9866-d0414a5be301",
   "metadata": {},
   "outputs": [
    {
     "name": "stdout",
     "output_type": "stream",
     "text": [
      "0.0625\n"
     ]
    }
   ],
   "source": [
    "print((13-4)/(12*12))"
   ]
  },
  {
   "cell_type": "code",
   "execution_count": 4,
   "id": "f23a4299-1c77-40db-9262-fe329b9f7f91",
   "metadata": {},
   "outputs": [
    {
     "name": "stdout",
     "output_type": "stream",
     "text": [
      "<class 'int'>\n",
      "<class 'float'>\n"
     ]
    }
   ],
   "source": [
    "print(type(4*3))\n",
    "print(type(4.0*3))"
   ]
  },
  {
   "cell_type": "code",
   "execution_count": 5,
   "id": "52d3fb24-1561-4de8-987f-d441ecbd6f2d",
   "metadata": {},
   "outputs": [
    {
     "name": "stdout",
     "output_type": "stream",
     "text": [
      "0\n"
     ]
    }
   ],
   "source": [
    "print(int(1/2))"
   ]
  },
  {
   "cell_type": "code",
   "execution_count": null,
   "id": "2f1d16f8-90e4-4341-a305-37640707ae68",
   "metadata": {},
   "outputs": [],
   "source": []
  }
 ],
 "metadata": {
  "kernelspec": {
   "display_name": "Python 3 (ipykernel)",
   "language": "python",
   "name": "python3"
  },
  "language_info": {
   "codemirror_mode": {
    "name": "ipython",
    "version": 3
   },
   "file_extension": ".py",
   "mimetype": "text/x-python",
   "name": "python",
   "nbconvert_exporter": "python",
   "pygments_lexer": "ipython3",
   "version": "3.11.7"
  }
 },
 "nbformat": 4,
 "nbformat_minor": 5
}
