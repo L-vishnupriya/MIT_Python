{
 "cells": [
  {
   "cell_type": "code",
   "execution_count": 1,
   "id": "c3d9d422-5be3-4a73-8203-fda2e51c8632",
   "metadata": {},
   "outputs": [
    {
     "name": "stdout",
     "output_type": "stream",
     "text": [
      "num_guesses = 59992\n",
      "5.999199999999357 is close to square root of 36\n"
     ]
    }
   ],
   "source": [
    "x = 36\n",
    "epsilon = 0.01\n",
    "num_guesses = 0\n",
    "guess = 0.0\n",
    "increment = 0.0001\n",
    "while abs(guess**2 - x) >= epsilon:\n",
    "    guess += increment\n",
    "    num_guesses +=1\n",
    "\n",
    "print(f'num_guesses = {num_guesses}')\n",
    "print(f'{guess} is close to square root of {x}')"
   ]
  },
  {
   "cell_type": "code",
   "execution_count": null,
   "id": "ce45b0cb-81a1-43ae-860c-6a5e24eedad2",
   "metadata": {},
   "outputs": [],
   "source": [
    "x = 54321\n",
    "epsilon = 0.01\n",
    "num_guesses = 0\n",
    "guess = 0.0\n",
    "increment = 0.0001\n",
    "while abs(guess**2 - x) >= epsilon and guess**2 <= x:\n",
    "    guess += increment\n",
    "    num_guesses +=1\n",
    "    if num_guesses%100000 == 0:\n",
    "        print(f'current guess = {guess}')\n",
    "        print(f'current guess**2 - x = {abs(guess*guess - x)}')\n",
    "    if num_guesses%1000000 == 0:\n",
    "        input('continue?')\n",
    "print(f'num_guesses = {num_guesses}')\n",
    "print(f'{guess} is close to square root of {x}')"
   ]
  }
 ],
 "metadata": {
  "kernelspec": {
   "display_name": "Python 3 (ipykernel)",
   "language": "python",
   "name": "python3"
  },
  "language_info": {
   "codemirror_mode": {
    "name": "ipython",
    "version": 3
   },
   "file_extension": ".py",
   "mimetype": "text/x-python",
   "name": "python",
   "nbconvert_exporter": "python",
   "pygments_lexer": "ipython3",
   "version": "3.11.7"
  }
 },
 "nbformat": 4,
 "nbformat_minor": 5
}
