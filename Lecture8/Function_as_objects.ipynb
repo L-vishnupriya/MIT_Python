{
 "cells": [
  {
   "cell_type": "markdown",
   "id": "66bf531b-d60e-4e1d-a5a4-4fdc1d6ea2aa",
   "metadata": {},
   "source": [
    "Functions_as_Objects:"
   ]
  },
  {
   "cell_type": "code",
   "execution_count": 3,
   "id": "af339fcb-12a9-453b-9632-afa8891488d8",
   "metadata": {},
   "outputs": [
    {
     "name": "stdout",
     "output_type": "stream",
     "text": [
      "with return\n",
      "False\n"
     ]
    }
   ],
   "source": [
    "def is_even_with_return(i):\n",
    "    print('with return')\n",
    "    remainder = i % 2\n",
    "    return remainder == 0\n",
    "\n",
    "#is_even_with_return(3)\n",
    "print(is_even_with_return(3))"
   ]
  },
  {
   "cell_type": "code",
   "execution_count": 4,
   "id": "2ce051a2-96ba-45dd-9664-de141925a026",
   "metadata": {},
   "outputs": [
    {
     "name": "stdout",
     "output_type": "stream",
     "text": [
      "without return\n",
      "False\n"
     ]
    }
   ],
   "source": [
    "def is_even_without_return(i):\n",
    "    print('without return')\n",
    "    remainder = i % 2\n",
    "    has_rem = (remainder == 0)\n",
    "    print(has_rem)\n",
    "\n",
    "is_even_without_return(3)"
   ]
  },
  {
   "cell_type": "code",
   "execution_count": 5,
   "id": "b1914570-1f15-4f1b-b2fc-1721c03abe3c",
   "metadata": {},
   "outputs": [
    {
     "name": "stdout",
     "output_type": "stream",
     "text": [
      "5\n",
      "12\n",
      "20\n",
      "None\n"
     ]
    }
   ],
   "source": [
    "def add(x,y):\n",
    "    return x+y\n",
    "def mult(x,y):\n",
    "    print(x*y)\n",
    "\n",
    "# add(1,2)\n",
    "print(add(2,3))\n",
    "mult(3,4)\n",
    "print(mult(4,5))"
   ]
  },
  {
   "cell_type": "code",
   "execution_count": 6,
   "id": "0afa04d3-61b9-4dac-a25f-e21f922834af",
   "metadata": {},
   "outputs": [
    {
     "name": "stdout",
     "output_type": "stream",
     "text": [
      "False\n",
      "None\n",
      "True\n",
      "False\n",
      "None\n",
      "False\n",
      "None\n"
     ]
    }
   ],
   "source": [
    "def is_triangular(n):\n",
    "    \"\"\" n is an int > 0 \n",
    "        Returns True if n is triangular, i.e. equals a continued\n",
    "        summation of natural numbers (1+2+3+...+k) \n",
    "    \"\"\"\n",
    "    total = 0\n",
    "    for i in range(n):\n",
    "        total += i\n",
    "        if total == n:\n",
    "            print(True)\n",
    "    print(False)\n",
    "\n",
    "# # start by runing it on simple test cases\n",
    "print(is_triangular(4))  # print False\n",
    "print(is_triangular(6))  # print True\n",
    "print(is_triangular(1))  # print True"
   ]
  },
  {
   "cell_type": "code",
   "execution_count": 8,
   "id": "61251152-9c88-4d52-92b9-23b4dd8749f8",
   "metadata": {},
   "outputs": [
    {
     "name": "stdout",
     "output_type": "stream",
     "text": [
      "2.0 is close to the root of 4\n",
      "2.0\n",
      "11.090194702148438 is close to the root of 123\n",
      "11.090194702148438\n"
     ]
    }
   ],
   "source": [
    "def bisection_root(x):\n",
    "    epsilon = 0.01\n",
    "    low = 0\n",
    "    high = x\n",
    "    ans = (high + low)/2.0\n",
    "    while abs(ans**2 - x) >= epsilon:\n",
    "        if ans**2 < x: \n",
    "            low = ans\n",
    "        else: \n",
    "            high = ans\n",
    "        ans = (high + low)/2.0\n",
    "    print(ans, 'is close to the root of', x)\n",
    "    return ans\n",
    "\n",
    "print(bisection_root(4))\n",
    "print(bisection_root(123))"
   ]
  },
  {
   "cell_type": "code",
   "execution_count": 9,
   "id": "68c7af22-5c52-4aef-9adc-4457d293bc2e",
   "metadata": {},
   "outputs": [
    {
     "name": "stdout",
     "output_type": "stream",
     "text": [
      "None\n"
     ]
    }
   ],
   "source": [
    "def count_nums_with_sqrt_close_to(n, epsilon):\n",
    "    \"\"\" n is an int > 2\n",
    "        epsilon is a positive number < 1\n",
    "    Returns how many integers have a square root within epsilon of n \"\"\"\n",
    "    # your code here\n",
    "\n",
    "\n",
    "print(count_nums_with_sqrt_close_to(10, 0.1))"
   ]
  },
  {
   "cell_type": "code",
   "execution_count": 10,
   "id": "24488605-13fc-46b1-bed5-b84f32683c3c",
   "metadata": {},
   "outputs": [
    {
     "name": "stdout",
     "output_type": "stream",
     "text": [
      "in f(x): x = 4\n"
     ]
    }
   ],
   "source": [
    "def f( x ):\n",
    "    x = x + 1\n",
    "    print('in f(x): x =', x)\n",
    "    return x\n",
    "\n",
    "x = 3\n",
    "z = f( x )"
   ]
  },
  {
   "cell_type": "code",
   "execution_count": 14,
   "id": "3cd250bf-0c39-40a4-8a35-6c84072d0d4d",
   "metadata": {},
   "outputs": [
    {
     "name": "stdout",
     "output_type": "stream",
     "text": [
      "2\n",
      "5\n",
      "5\n",
      "6\n",
      "5\n",
      "5\n"
     ]
    }
   ],
   "source": [
    "def f(y):\n",
    "    x = 1\n",
    "    x += 1\n",
    "    print(x)\n",
    "    \n",
    "x = 5\n",
    "f(x)\n",
    "print(x)\n",
    "\n",
    "def g(y):\n",
    "    print(x)\n",
    "    print(x+1)\n",
    "    \n",
    "x = 5\n",
    "g(x)\n",
    "print(x)\n",
    "\n",
    "def h(y):\n",
    "    x += 1 #leads to an error without line `global x` inside h\n",
    "    x = 5\n",
    "    h(x)\n",
    "print(x)"
   ]
  },
  {
   "cell_type": "code",
   "execution_count": 15,
   "id": "c6f7ab15-c44c-4603-8e01-59a4dd826155",
   "metadata": {},
   "outputs": [
    {
     "name": "stdout",
     "output_type": "stream",
     "text": [
      "5\n",
      "Denominator was 0.\n",
      "None\n"
     ]
    }
   ],
   "source": [
    "def calc(op, x, y):\n",
    "    return op(x,y)\n",
    "\n",
    "def add(a,b):\n",
    "    return a+b\n",
    "\n",
    "def sub(a,b):\n",
    "    return a-b\n",
    "\n",
    "def mult(a,b):\n",
    "    return a*b\n",
    "    \n",
    "def div(a,b):\n",
    "    if b != 0:\n",
    "        return a/b\n",
    "    print(\"Denominator was 0.\")\n",
    "\n",
    "print(calc(add, 2, 3))\n",
    "print(calc(div, 2, 0))"
   ]
  },
  {
   "cell_type": "code",
   "execution_count": 16,
   "id": "a52c9bc9-a382-4590-920f-69bd5c4b4568",
   "metadata": {},
   "outputs": [
    {
     "name": "stdout",
     "output_type": "stream",
     "text": [
      "inside func_a\n",
      "None\n",
      "inside func_b\n",
      "7\n",
      "inside func_c\n",
      "inside func_b\n",
      "3\n"
     ]
    }
   ],
   "source": [
    "def func_a():\n",
    "    print('inside func_a')\n",
    "def func_b(y):\n",
    "    print('inside func_b')\n",
    "    return y\n",
    "def func_c(f, z):\n",
    "    print('inside func_c')\n",
    "    return f(z)\n",
    "\n",
    "print(func_a())\n",
    "print(5 + func_b(2))\n",
    "print(func_c(func_b, 3))\n"
   ]
  },
  {
   "cell_type": "code",
   "execution_count": 17,
   "id": "5b69b983-fb8d-4077-be8b-e86c29038c05",
   "metadata": {},
   "outputs": [
    {
     "name": "stdout",
     "output_type": "stream",
     "text": [
      "None\n"
     ]
    }
   ],
   "source": [
    "Try it:"
   ]
  },
  {
   "cell_type": "code",
   "execution_count": null,
   "id": "0c2d2ab1-eea7-4318-8c89-50b857b59586",
   "metadata": {},
   "outputs": [],
   "source": [
    "def how_many_sqrt_close_to(n, epsilon):\n",
    "    \"\"\" n is an int > 0\n",
    "        epsilon is a number\n",
    "    Returns how many integers have a square root within epsilon of n \"\"\"\n",
    "    count = 0\n",
    "    for i in range(n**3):\n",
    "        if n-epsilon < bisection_root(i) < n+epsilon:\n",
    "            count += 1\n",
    "    return count\n",
    "\n",
    "print(how_many_sqrt_close_to(10, 0.1))\n"
   ]
  },
  {
   "cell_type": "code",
   "execution_count": 20,
   "id": "75e4cc0a-3367-4996-ad4a-39bea4c838f1",
   "metadata": {},
   "outputs": [
    {
     "name": "stdout",
     "output_type": "stream",
     "text": [
      "6\n",
      "1\n"
     ]
    }
   ],
   "source": [
    "def apply(criteria,n):\n",
    "    \"\"\" criteria is a function that takes in a number and returns a Boolean\n",
    "        n is an int\n",
    "    Returns how many ints from 0 to n (inclusive) match the criteria \n",
    "    (i.e. return True when criteria is applied to them)\n",
    "    \"\"\" \n",
    "    pass\n",
    "    count = 0\n",
    "    for i in range(0, n+1):\n",
    "        if criteria(i):\n",
    "            count += 1\n",
    "    return count\n",
    "\n",
    "def is_even(x):\n",
    "    return x%2==0\n",
    "what = apply(is_even,10)\n",
    "print(what)\n",
    "\n",
    "print(apply(lambda x: x==5, 100))"
   ]
  },
  {
   "cell_type": "code",
   "execution_count": 21,
   "id": "7ea8e80e-5904-454c-8d2b-381280bd33b7",
   "metadata": {},
   "outputs": [
    {
     "name": "stdout",
     "output_type": "stream",
     "text": [
      "True\n",
      "True\n",
      "False\n"
     ]
    }
   ],
   "source": [
    "def is_palindrome(s):\n",
    "    for i in range(len(s)):\n",
    "        if s[i] != s[len(s)-i-1]:\n",
    "            return False\n",
    "    return True\n",
    "\n",
    "\n",
    "print(is_palindrome(\"222\"))   \n",
    "print(is_palindrome(\"2222\"))   \n",
    "print(is_palindrome(\"abc\"))   "
   ]
  },
  {
   "cell_type": "code",
   "execution_count": 22,
   "id": "39bf93c1-d05d-4c33-a81d-5e6b17ac452c",
   "metadata": {},
   "outputs": [
    {
     "name": "stdout",
     "output_type": "stream",
     "text": [
      "True\n",
      "True\n",
      "True\n",
      "False\n"
     ]
    }
   ],
   "source": [
    "def f_yields_palindrome(n, f):\n",
    "    f_on_n = f(n)\n",
    "    return is_palindrome(str(f_on_n))\n",
    "def f(x):\n",
    "    return x+1\n",
    "\n",
    "def g(x):\n",
    "    return x*2\n",
    "\n",
    "def h(x):\n",
    "    return x//2\n",
    "\n",
    "print(f_yields_palindrome(2, f))   \n",
    "print(f_yields_palindrome(76, f))   \n",
    "print(f_yields_palindrome(11, g))   \n",
    "print(f_yields_palindrome(123, h))   "
   ]
  },
  {
   "cell_type": "code",
   "execution_count": null,
   "id": "ffceae72-1310-42ce-a190-e77180a4d7f5",
   "metadata": {},
   "outputs": [],
   "source": []
  },
  {
   "cell_type": "code",
   "execution_count": null,
   "id": "8cf42c19-f78d-47cb-ab0c-dabdaffae11e",
   "metadata": {},
   "outputs": [],
   "source": []
  },
  {
   "cell_type": "code",
   "execution_count": null,
   "id": "2ee36369-d7b8-4505-a846-f269a9896ba9",
   "metadata": {},
   "outputs": [],
   "source": []
  },
  {
   "cell_type": "code",
   "execution_count": null,
   "id": "c171dd99-7105-4934-b61c-2c26524d8098",
   "metadata": {},
   "outputs": [],
   "source": []
  },
  {
   "cell_type": "code",
   "execution_count": null,
   "id": "2fb19d3b-806f-4b83-a2eb-a89f7b2dd22a",
   "metadata": {},
   "outputs": [],
   "source": []
  },
  {
   "cell_type": "code",
   "execution_count": null,
   "id": "5e192aba-8226-490b-a7f9-73cd99c84516",
   "metadata": {},
   "outputs": [],
   "source": []
  },
  {
   "cell_type": "code",
   "execution_count": null,
   "id": "70e996dd-d33d-4e5f-b890-2bfe2c54917b",
   "metadata": {},
   "outputs": [],
   "source": []
  },
  {
   "cell_type": "code",
   "execution_count": null,
   "id": "c8076891-3e55-4cf6-891b-9d03cf8cdaec",
   "metadata": {},
   "outputs": [],
   "source": []
  },
  {
   "cell_type": "code",
   "execution_count": null,
   "id": "68590e37-2dfa-4ee1-a454-deb307657f12",
   "metadata": {},
   "outputs": [],
   "source": []
  },
  {
   "cell_type": "code",
   "execution_count": null,
   "id": "c6a01c9e-7700-494f-983a-bee1a56209f9",
   "metadata": {},
   "outputs": [],
   "source": []
  },
  {
   "cell_type": "code",
   "execution_count": null,
   "id": "efde5b4b-ab58-4246-ae7f-44778eca13ae",
   "metadata": {},
   "outputs": [],
   "source": []
  },
  {
   "cell_type": "code",
   "execution_count": null,
   "id": "b2c09c2d-70e2-47eb-b983-b45670d589a5",
   "metadata": {},
   "outputs": [],
   "source": []
  }
 ],
 "metadata": {
  "kernelspec": {
   "display_name": "Python 3 (ipykernel)",
   "language": "python",
   "name": "python3"
  },
  "language_info": {
   "codemirror_mode": {
    "name": "ipython",
    "version": 3
   },
   "file_extension": ".py",
   "mimetype": "text/x-python",
   "name": "python",
   "nbconvert_exporter": "python",
   "pygments_lexer": "ipython3",
   "version": "3.11.7"
  }
 },
 "nbformat": 4,
 "nbformat_minor": 5
}
