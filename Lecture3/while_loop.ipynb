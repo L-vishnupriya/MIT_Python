{
 "cells": [
  {
   "cell_type": "markdown",
   "id": "f2b5238c-8518-425f-a092-8b74039ff522",
   "metadata": {},
   "source": [
    "WHILE:"
   ]
  },
  {
   "cell_type": "code",
   "execution_count": 1,
   "id": "3cf4cc7e-2ae4-491a-bab6-e490a221f3d9",
   "metadata": {},
   "outputs": [
    {
     "name": "stdin",
     "output_type": "stream",
     "text": [
      "you are in the lost forest right\n",
      "you are in the lost forest no\n"
     ]
    },
    {
     "name": "stdout",
     "output_type": "stream",
     "text": [
      "you got out of the lost forest!\n"
     ]
    }
   ],
   "source": [
    "where = input(\"you are in the lost forest\")\n",
    "while where == \"right\":\n",
    "    where = input(\"you are in the lost forest\")\n",
    "\n",
    "print(\"you got out of the lost forest!\")"
   ]
  },
  {
   "cell_type": "markdown",
   "id": "d12834ec-b559-49aa-999d-45f4fa6e76c3",
   "metadata": {},
   "source": [
    "Try It:"
   ]
  },
  {
   "cell_type": "code",
   "execution_count": 3,
   "id": "892743ba-f556-4078-8d20-f3a33cb5cf08",
   "metadata": {},
   "outputs": [
    {
     "name": "stdin",
     "output_type": "stream",
     "text": [
      "Go left or right? left\n"
     ]
    },
    {
     "name": "stdout",
     "output_type": "stream",
     "text": [
      "you got out!\n"
     ]
    }
   ],
   "source": [
    "where = input(\"Go left or right?\")\n",
    "while where == \"right\":\n",
    "    where = input(\"Go left or right?\")\n",
    "\n",
    "print(\"you got out!\")"
   ]
  },
  {
   "cell_type": "markdown",
   "id": "69b53754-3703-40c1-be0e-88c6b7f07d02",
   "metadata": {},
   "source": [
    "While loop:"
   ]
  },
  {
   "cell_type": "code",
   "execution_count": 7,
   "id": "790a98c7-3a51-41a4-b1b1-264512de028a",
   "metadata": {},
   "outputs": [
    {
     "name": "stdin",
     "output_type": "stream",
     "text": [
      "Enter a non-negative integer: 5\n"
     ]
    },
    {
     "name": "stdout",
     "output_type": "stream",
     "text": [
      "x\n",
      "x\n",
      "x\n",
      "x\n",
      "x\n"
     ]
    }
   ],
   "source": [
    "n = int(input(\"Enter a non-negative integer:\"))\n",
    "while n > 0:\n",
    "    print('x')\n",
    "    n = n-1"
   ]
  },
  {
   "cell_type": "markdown",
   "id": "2bfbe340-1aca-44ad-b251-1724367efa04",
   "metadata": {},
   "source": [
    "Try it:\n"
   ]
  },
  {
   "cell_type": "code",
   "execution_count": 1,
   "id": "da18bfcf-79f9-4f20-bb3b-8e8ea19b925b",
   "metadata": {},
   "outputs": [
    {
     "name": "stdin",
     "output_type": "stream",
     "text": [
      "Go left or right? right\n",
      "Go left or right? right\n",
      "Go left or right? left\n"
     ]
    },
    {
     "name": "stdout",
     "output_type": "stream",
     "text": [
      "you got out!\n"
     ]
    }
   ],
   "source": [
    "n = 0\n",
    "where = input(\"Go left or right?\")\n",
    "while where == \"right\":\n",
    "    n = n + 1\n",
    "    if n > 2: \n",
    "        print(\":(\")\n",
    "    where = input(\"Go left or right?\")\n",
    "\n",
    "print(\"you got out!\")"
   ]
  },
  {
   "cell_type": "code",
   "execution_count": 3,
   "id": "6ff9e30d-f3be-4d54-a0b2-3d52446154c8",
   "metadata": {},
   "outputs": [
    {
     "name": "stdout",
     "output_type": "stream",
     "text": [
      "0\n",
      "1\n",
      "2\n",
      "3\n",
      "4\n"
     ]
    }
   ],
   "source": [
    "n = 0\n",
    "while n < 5:\n",
    "    print(n)\n",
    "    n = n + 1"
   ]
  },
  {
   "cell_type": "code",
   "execution_count": 2,
   "id": "71eb5849-eca7-4088-bb38-7ebe01cf2155",
   "metadata": {},
   "outputs": [
    {
     "name": "stdin",
     "output_type": "stream",
     "text": [
      "Go left or right? right\n"
     ]
    },
    {
     "name": "stdout",
     "output_type": "stream",
     "text": [
      "1\n"
     ]
    },
    {
     "name": "stdin",
     "output_type": "stream",
     "text": [
      "Go left or right? left\n"
     ]
    },
    {
     "name": "stdout",
     "output_type": "stream",
     "text": [
      "you got out!\n"
     ]
    }
   ],
   "source": [
    "n = 0\n",
    "where = input(\"Go left or right?\")\n",
    "while where == \"right\":\n",
    "    n = n + 1 \n",
    "    print(n)\n",
    "    where = input(\"Go left or right?\")\n",
    "\n",
    "print(\"you got out!\")"
   ]
  },
  {
   "cell_type": "code",
   "execution_count": 5,
   "id": "f29b3e98-6872-4560-a372-034968e74450",
   "metadata": {},
   "outputs": [
    {
     "name": "stdout",
     "output_type": "stream",
     "text": [
      "4 Factorial is 1\n",
      "4 Factorial is 2\n",
      "4 Factorial is 6\n",
      "4 Factorial is 24\n"
     ]
    }
   ],
   "source": [
    "x = 4\n",
    "i = 1\n",
    "factorial = 1\n",
    "while i <= x:\n",
    "    factorial *= i\n",
    "    i += 1\n",
    "    print(f'{x} Factorial is {factorial}')"
   ]
  },
  {
   "cell_type": "code",
   "execution_count": null,
   "id": "207d47cd-bf05-4233-bc6e-f5b0f5378029",
   "metadata": {},
   "outputs": [],
   "source": []
  }
 ],
 "metadata": {
  "kernelspec": {
   "display_name": "Python 3 (ipykernel)",
   "language": "python",
   "name": "python3"
  },
  "language_info": {
   "codemirror_mode": {
    "name": "ipython",
    "version": 3
   },
   "file_extension": ".py",
   "mimetype": "text/x-python",
   "name": "python",
   "nbconvert_exporter": "python",
   "pygments_lexer": "ipython3",
   "version": "3.11.7"
  }
 },
 "nbformat": 4,
 "nbformat_minor": 5
}
