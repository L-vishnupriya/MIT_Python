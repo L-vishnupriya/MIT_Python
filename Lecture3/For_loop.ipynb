{
 "cells": [
  {
   "cell_type": "markdown",
   "id": "26c8787e-4f54-49db-ad6d-5cbf01396d50",
   "metadata": {},
   "source": [
    "For loop:"
   ]
  },
  {
   "cell_type": "code",
   "execution_count": 1,
   "id": "a8a927c3-42d0-4fed-9098-5b6e85fb571a",
   "metadata": {},
   "outputs": [
    {
     "name": "stdout",
     "output_type": "stream",
     "text": [
      "0\n",
      "1\n",
      "2\n",
      "3\n",
      "4\n"
     ]
    }
   ],
   "source": [
    "for n in range(5):\n",
    "    print(n)"
   ]
  },
  {
   "cell_type": "markdown",
   "id": "b1a2dc3f-863f-4d5d-8a0e-c2afaa04240e",
   "metadata": {},
   "source": [
    "Try It:\n"
   ]
  },
  {
   "cell_type": "code",
   "execution_count": 3,
   "id": "d034781c-bd9f-4af3-a2a7-8e51bc56c27b",
   "metadata": {},
   "outputs": [
    {
     "name": "stdout",
     "output_type": "stream",
     "text": [
      "1\n",
      "2\n",
      "3\n"
     ]
    }
   ],
   "source": [
    "for i in range(1,4,1):\n",
    "    print(i)"
   ]
  },
  {
   "cell_type": "code",
   "execution_count": 5,
   "id": "c846d257-3402-4518-9ee8-63f004775ad5",
   "metadata": {},
   "outputs": [
    {
     "name": "stdout",
     "output_type": "stream",
     "text": [
      "2\n",
      "6\n"
     ]
    }
   ],
   "source": [
    "for j in range(1,4,2):\n",
    "    print(j*2)"
   ]
  },
  {
   "cell_type": "code",
   "execution_count": 7,
   "id": "595c58b8-9d37-43f8-b300-e0c8d74b4a27",
   "metadata": {},
   "outputs": [
    {
     "name": "stdout",
     "output_type": "stream",
     "text": [
      "$$$$\n",
      "$$$\n",
      "$$\n",
      "$\n"
     ]
    }
   ],
   "source": [
    "for me in range(4,0,-1):\n",
    "    print(\"$\"*me)"
   ]
  },
  {
   "cell_type": "code",
   "execution_count": 8,
   "id": "13a91bad-a195-45fb-9f3f-b29e16bad0d8",
   "metadata": {},
   "outputs": [
    {
     "name": "stdout",
     "output_type": "stream",
     "text": [
      "45\n"
     ]
    }
   ],
   "source": [
    "mysum = 0\n",
    "for i in range(10):\n",
    "    mysum += i\n",
    "\n",
    "print(mysum)"
   ]
  },
  {
   "cell_type": "code",
   "execution_count": 9,
   "id": "07d8c530-2e99-45c1-8fb6-3eda61f4f594",
   "metadata": {},
   "outputs": [
    {
     "name": "stdout",
     "output_type": "stream",
     "text": [
      "7\n"
     ]
    }
   ],
   "source": [
    "mysum = 0\n",
    "start = 3\n",
    "end = 5\n",
    "for i in range(start, end):\n",
    "    mysum += i\n",
    "\n",
    "print(mysum)\n"
   ]
  },
  {
   "cell_type": "code",
   "execution_count": 10,
   "id": "19f75161-56c2-4e45-9cf6-a567bc33bd1b",
   "metadata": {},
   "outputs": [
    {
     "name": "stdout",
     "output_type": "stream",
     "text": [
      "i= 3\n",
      "i= 4\n",
      "i= 5\n",
      "12\n"
     ]
    }
   ],
   "source": [
    "mysum = 0\n",
    "start = 3\n",
    "end = 5\n",
    "for i in range(start, end+1):\n",
    "    print('i=' ,i)\n",
    "    mysum += i\n",
    "\n",
    "print(mysum)"
   ]
  },
  {
   "cell_type": "code",
   "execution_count": null,
   "id": "53de1143-1d27-465e-a664-92329216d0f0",
   "metadata": {},
   "outputs": [],
   "source": []
  }
 ],
 "metadata": {
  "kernelspec": {
   "display_name": "Python 3 (ipykernel)",
   "language": "python",
   "name": "python3"
  },
  "language_info": {
   "codemirror_mode": {
    "name": "ipython",
    "version": 3
   },
   "file_extension": ".py",
   "mimetype": "text/x-python",
   "name": "python",
   "nbconvert_exporter": "python",
   "pygments_lexer": "ipython3",
   "version": "3.11.7"
  }
 },
 "nbformat": 4,
 "nbformat_minor": 5
}
