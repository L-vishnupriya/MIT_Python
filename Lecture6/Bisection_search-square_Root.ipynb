{
 "cells": [
  {
   "cell_type": "code",
   "execution_count": 1,
   "id": "ffbe17a3-9c1e-4216-9ddf-70871fa22834",
   "metadata": {},
   "outputs": [
    {
     "name": "stdout",
     "output_type": "stream",
     "text": [
      "low = 27161.0 is close to square root of 54321\n",
      "low = 13581.0 is close to square root of 54321\n",
      "low = 6791.0 is close to square root of 54321\n",
      "low = 3396.0 is close to square root of 54321\n",
      "low = 1698.5 is close to square root of 54321\n",
      "low = 849.75 is close to square root of 54321\n",
      "low = 425.375 is close to square root of 54321\n",
      "low = 213.1875 is close to square root of 54321\n",
      "low = 319.28125 is close to square root of 54321\n",
      "low = 266.234375 is close to square root of 54321\n",
      "low = 239.7109375 is close to square root of 54321\n",
      "low = 226.44921875 is close to square root of 54321\n",
      "low = 233.080078125 is close to square root of 54321\n",
      "low = 229.7646484375 is close to square root of 54321\n",
      "low = 231.42236328125 is close to square root of 54321\n",
      "low = 232.251220703125 is close to square root of 54321\n",
      "low = 232.6656494140625 is close to square root of 54321\n",
      "low = 232.87286376953125 is close to square root of 54321\n",
      "low = 232.97647094726562 is close to square root of 54321\n",
      "low = 233.0282745361328 is close to square root of 54321\n",
      "low = 233.0541763305664 is close to square root of 54321\n",
      "low = 233.0671272277832 is close to square root of 54321\n",
      "low = 233.0736026763916 is close to square root of 54321\n",
      "low = 233.0703649520874 is close to square root of 54321\n",
      "low = 233.0687460899353 is close to square root of 54321\n",
      "low = 233.06793665885925 is close to square root of 54321\n",
      "low = 233.06834137439728 is close to square root of 54321\n",
      "low = 233.0685437321663 is close to square root of 54321\n",
      "233.0686449110508 is close to square root of 54321\n"
     ]
    }
   ],
   "source": [
    "x = 54321\n",
    "epsilon = 0.01\n",
    "if x >= 1:\n",
    "    low = 1.0\n",
    "    high = x\n",
    "else:\n",
    "    low = x\n",
    "    high = 1.0\n",
    "guess = (high + low)/2\n",
    "\n",
    "while abs(guess**2 - x) >= epsilon:\n",
    "    print(f'low = {str(guess)} is close to square root of {str(x)}')\n",
    "    if guess**2 < x:\n",
    "        low = guess\n",
    "    else:\n",
    "        high = guess\n",
    "    guess = (high + low)/2.0\n",
    "print(f'{str(guess)} is close to square root of {str(x)}')\n",
    "\n",
    "    \n"
   ]
  },
  {
   "cell_type": "markdown",
   "id": "d686139a-28f4-43d4-b1d2-993b303b75fb",
   "metadata": {},
   "source": [
    "Try It:"
   ]
  },
  {
   "cell_type": "code",
   "execution_count": null,
   "id": "c26b0e94-b099-40f4-b018-87a39f25885a",
   "metadata": {},
   "outputs": [],
   "source": [
    "cube = 27\n",
    "epsilon = 0.01\n",
    "low = 0\n",
    "high = cube\n",
    "\n",
    "guess = (high + low) / 2  \n",
    "\n",
    "while abs(guess**3 - cube) > epsilon:\n",
    "    if guess**3 > cube:\n",
    "        high = guess \n",
    "    else:\n",
    "        low = guess  \n",
    "    guess = (high + low) / 2  \n",
    "\n",
    "print(f\"Approximate cube root: {guess:.4f}\")  \n"
   ]
  }
 ],
 "metadata": {
  "kernelspec": {
   "display_name": "Python 3 (ipykernel)",
   "language": "python",
   "name": "python3"
  },
  "language_info": {
   "codemirror_mode": {
    "name": "ipython",
    "version": 3
   },
   "file_extension": ".py",
   "mimetype": "text/x-python",
   "name": "python",
   "nbconvert_exporter": "python",
   "pygments_lexer": "ipython3",
   "version": "3.11.7"
  }
 },
 "nbformat": 4,
 "nbformat_minor": 5
}
