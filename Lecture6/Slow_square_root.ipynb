{
 "cells": [
  {
   "cell_type": "code",
   "execution_count": 1,
   "id": "930b8e74-5112-4fcb-b2eb-71542a2c425b",
   "metadata": {},
   "outputs": [
    {
     "name": "stdout",
     "output_type": "stream",
     "text": [
      "num_guesses = 2330687\n",
      "Failed on square root of 54321\n"
     ]
    }
   ],
   "source": [
    "x = 54321\n",
    "epsilon = 0.01\n",
    "num_guesses = 0\n",
    "guess = 0.0\n",
    "increment = 0.0001\n",
    "while abs(guess**2 - x) >= epsilon and guess**2 <= x:\n",
    "    guess += increment\n",
    "    num_guesses +=1\n",
    "print('num_guesses =', num_guesses)\n",
    "if abs(guess**2 - x) >= epsilon:\n",
    "    print('Failed on square root of', x)\n",
    "else:\n",
    "    print(guess, 'is close to square root of', x)\n",
    "    \n"
   ]
  },
  {
   "cell_type": "code",
   "execution_count": null,
   "id": "e1bf97b6-f607-4fee-94ee-f12145a9e135",
   "metadata": {},
   "outputs": [],
   "source": []
  }
 ],
 "metadata": {
  "kernelspec": {
   "display_name": "Python 3 (ipykernel)",
   "language": "python",
   "name": "python3"
  },
  "language_info": {
   "codemirror_mode": {
    "name": "ipython",
    "version": 3
   },
   "file_extension": ".py",
   "mimetype": "text/x-python",
   "name": "python",
   "nbconvert_exporter": "python",
   "pygments_lexer": "ipython3",
   "version": "3.11.7"
  }
 },
 "nbformat": 4,
 "nbformat_minor": 5
}
