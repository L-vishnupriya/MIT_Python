{
 "cells": [
  {
   "cell_type": "code",
   "execution_count": 2,
   "id": "2a31cd44-07ee-4e6c-98aa-b692dbe3a918",
   "metadata": {},
   "outputs": [
    {
     "name": "stdout",
     "output_type": "stream",
     "text": [
      "num_guesses = 4\n",
      "square root of24.0is about 4.8989887432139305\n"
     ]
    }
   ],
   "source": [
    "epsilon = 0.01\n",
    "k = 24.0\n",
    "num_guesses = 0\n",
    "guess = k/2.0\n",
    "\n",
    "while abs(guess*guess - k) >= epsilon: \n",
    "    num_guesses +=1\n",
    "    guess = guess - ((guess**2) - k)/(2*guess)\n",
    "print('num_guesses =', str(num_guesses))\n",
    "print('square root of' + str(k) +'is about ' + str(guess))\n",
    "    \n"
   ]
  },
  {
   "cell_type": "code",
   "execution_count": 3,
   "id": "17e70693-175d-4ecc-8ff0-d45c104f05c2",
   "metadata": {},
   "outputs": [
    {
     "name": "stdout",
     "output_type": "stream",
     "text": [
      "num_guesses = 10\n",
      "square root of54321is about 233.06867027451543\n"
     ]
    }
   ],
   "source": [
    "epsilon = 0.01\n",
    "k = 54321\n",
    "num_guesses = 0\n",
    "guess = k/2.0\n",
    "\n",
    "while abs(guess*guess - k) >= epsilon: \n",
    "    num_guesses +=1\n",
    "    guess = guess - ((guess**2) - k)/(2*guess)\n",
    "print('num_guesses =', str(num_guesses))\n",
    "print('square root of' + str(k) +'is about ' + str(guess))\n",
    "    \n"
   ]
  },
  {
   "cell_type": "code",
   "execution_count": null,
   "id": "0dae1c18-9c34-41cd-a763-e3989f0eb8db",
   "metadata": {},
   "outputs": [],
   "source": []
  }
 ],
 "metadata": {
  "kernelspec": {
   "display_name": "Python 3 (ipykernel)",
   "language": "python",
   "name": "python3"
  },
  "language_info": {
   "codemirror_mode": {
    "name": "ipython",
    "version": 3
   },
   "file_extension": ".py",
   "mimetype": "text/x-python",
   "name": "python",
   "nbconvert_exporter": "python",
   "pygments_lexer": "ipython3",
   "version": "3.11.7"
  }
 },
 "nbformat": 4,
 "nbformat_minor": 5
}
