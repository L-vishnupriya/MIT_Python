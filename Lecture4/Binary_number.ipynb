{
 "cells": [
  {
   "cell_type": "markdown",
   "id": "b4fec826-a13e-41f4-95da-946ec06c4ce3",
   "metadata": {},
   "source": [
    "Binary Numbers:"
   ]
  },
  {
   "cell_type": "code",
   "execution_count": 8,
   "id": "5b17e469-a7f4-4e53-b649-d14bdd90949a",
   "metadata": {},
   "outputs": [
    {
     "name": "stdout",
     "output_type": "stream",
     "text": [
      "False\n",
      "0.9999999999999999 == 1.0\n"
     ]
    }
   ],
   "source": [
    "x = 0\n",
    "for i in range(10):\n",
    "    x += 0.1\n",
    "\n",
    "print(x == 1)\n",
    "print(x, '==', 10*0.1)"
   ]
  },
  {
   "cell_type": "code",
   "execution_count": 9,
   "id": "288722df-b714-4eff-bf3d-d3288a152000",
   "metadata": {},
   "outputs": [],
   "source": [
    "if num < 0:\n",
    "    is_neg = True\n",
    "    num = abs(num)\n",
    "\n",
    "else:\n",
    "    is_neg = False\n",
    "result = ''\n",
    "if num == 0:\n",
    "    result = '0'\n",
    "\n",
    "while num > 0:\n",
    "    result = str(num%2) + result\n",
    "    num = num//2\n",
    "\n",
    "if is_neg:\n",
    "    result = '-' + result"
   ]
  }
 ],
 "metadata": {
  "kernelspec": {
   "display_name": "Python 3 (ipykernel)",
   "language": "python",
   "name": "python3"
  },
  "language_info": {
   "codemirror_mode": {
    "name": "ipython",
    "version": 3
   },
   "file_extension": ".py",
   "mimetype": "text/x-python",
   "name": "python",
   "nbconvert_exporter": "python",
   "pygments_lexer": "ipython3",
   "version": "3.11.7"
  }
 },
 "nbformat": 4,
 "nbformat_minor": 5
}
