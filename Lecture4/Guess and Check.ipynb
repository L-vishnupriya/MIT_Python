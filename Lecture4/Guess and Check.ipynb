{
 "cells": [
  {
   "cell_type": "markdown",
   "id": "2f49a470-b9a1-4b36-84e4-7f3d6e6237ac",
   "metadata": {},
   "source": [
    "Guess and Check square_root with while"
   ]
  },
  {
   "cell_type": "code",
   "execution_count": 2,
   "id": "27cf50de-015e-43a2-81cf-f560538f3d8b",
   "metadata": {},
   "outputs": [
    {
     "name": "stdin",
     "output_type": "stream",
     "text": [
      "Enter an integer: 16\n"
     ]
    },
    {
     "name": "stdout",
     "output_type": "stream",
     "text": [
      "Square root of 16 is 4\n"
     ]
    }
   ],
   "source": [
    "guess = 0\n",
    "x = int(input(\"Enter an integer:\"))\n",
    "while guess**2 < x:\n",
    "    guess = guess + 1\n",
    "\n",
    "if guess**2 == x:\n",
    "    print(\"Square root of\", x, \"is\", guess)\n",
    "\n",
    "else:\n",
    "    print(x, \"is not a perfect square\")"
   ]
  },
  {
   "cell_type": "code",
   "execution_count": 3,
   "id": "128d3310-c5df-455f-931e-fd3b26a3afcd",
   "metadata": {},
   "outputs": [
    {
     "name": "stdin",
     "output_type": "stream",
     "text": [
      "Enter an integer: 77\n"
     ]
    },
    {
     "name": "stdout",
     "output_type": "stream",
     "text": [
      "77 is not a perfect square\n"
     ]
    }
   ],
   "source": [
    "guess = 0\n",
    "x = int(input(\"Enter an integer:\"))\n",
    "while guess**2 < x:\n",
    "    guess = guess + 1\n",
    "\n",
    "if guess**2 == x:\n",
    "    print(\"Square root of\", x, \"is\", guess)\n",
    "\n",
    "else:\n",
    "    print(x, \"is not a perfect square\")"
   ]
  },
  {
   "cell_type": "code",
   "execution_count": 7,
   "id": "d1b93332-64f2-4bd6-808a-abc5d3f1e956",
   "metadata": {},
   "outputs": [
    {
     "name": "stdin",
     "output_type": "stream",
     "text": [
      "Enter an integer: -4\n"
     ]
    },
    {
     "name": "stdout",
     "output_type": "stream",
     "text": [
      "-4 is not a perfect square\n",
      "just checking....did you mean4\n"
     ]
    }
   ],
   "source": [
    "guess = 0\n",
    "neg_flag = False\n",
    "x = int(input(\"Enter an integer:\"))\n",
    "if x < 0:\n",
    "    neg_flag = True\n",
    "while guess**2 < x:\n",
    "    guess = guess + 1\n",
    "\n",
    "if guess**2 == x:\n",
    "    print(\"Square root of\", x, \"is\", guess)\n",
    "\n",
    "else:\n",
    "    print(x, \"is not a perfect square\")\n",
    "    if neg_flag:\n",
    "        print(f'just checking....did you mean{-x}')"
   ]
  },
  {
   "cell_type": "markdown",
   "id": "a0d64a23-c7ab-4888-b45f-5161a17dbb85",
   "metadata": {},
   "source": [
    "Try It:"
   ]
  },
  {
   "cell_type": "code",
   "execution_count": 10,
   "id": "a5d4c5a7-835d-4a97-84c8-64010f36d82c",
   "metadata": {},
   "outputs": [
    {
     "name": "stdout",
     "output_type": "stream",
     "text": [
      "found\n"
     ]
    }
   ],
   "source": [
    "secret = 1\n",
    "for i in range(1,11):\n",
    "    if i == secret:\n",
    "        print('found')"
   ]
  },
  {
   "cell_type": "markdown",
   "id": "40491dbc-891d-4344-a049-d7e9f9c97b9d",
   "metadata": {},
   "source": [
    "Use both found and not_found:"
   ]
  },
  {
   "cell_type": "code",
   "execution_count": 25,
   "id": "a5bf695c-504a-4236-982f-b02010a4f796",
   "metadata": {},
   "outputs": [
    {
     "name": "stdout",
     "output_type": "stream",
     "text": [
      "found\n"
     ]
    }
   ],
   "source": [
    "found = False\n",
    "secret = 10\n",
    "for i in range(1,11):\n",
    "    if i == secret:\n",
    "        print('found')\n",
    "        found = True\n",
    "if not found:\n",
    "        print('not found')\n",
    "        "
   ]
  },
  {
   "cell_type": "markdown",
   "id": "411e5e35-545b-4310-a07a-dd6982e2b1ae",
   "metadata": {},
   "source": [
    "Guess and Check cube_root:"
   ]
  },
  {
   "cell_type": "code",
   "execution_count": 33,
   "id": "40d2c296-ac49-44e7-8dfb-7b35fd094564",
   "metadata": {},
   "outputs": [
    {
     "name": "stdin",
     "output_type": "stream",
     "text": [
      "Enter an integer: 45\n"
     ]
    },
    {
     "name": "stdout",
     "output_type": "stream",
     "text": [
      "45 is not a perfect cube\n"
     ]
    }
   ],
   "source": [
    "cube = int(input(\"Enter an integer:\"))\n",
    "for guess in range(cube+1):\n",
    "    if guess**3 >= abs(cube):\n",
    "        break\n",
    "if guess**3 != abs(cube):\n",
    "    print(cube, \"is not a perfect cube\")\n",
    "else:\n",
    "    if cube < 0:\n",
    "        guess = -guess\n",
    "    print(\"cube root of\"+str(cube)+\"is\"+str(guess))"
   ]
  },
  {
   "cell_type": "code",
   "execution_count": 34,
   "id": "4bd8a87a-3057-4bf8-a926-1b2071ca7ab9",
   "metadata": {},
   "outputs": [
    {
     "name": "stdin",
     "output_type": "stream",
     "text": [
      "Enter an integer: 27\n"
     ]
    },
    {
     "name": "stdout",
     "output_type": "stream",
     "text": [
      "cube root of27is3\n"
     ]
    }
   ],
   "source": [
    "cube = int(input(\"Enter an integer:\"))\n",
    "for guess in range(cube+1):\n",
    "    if guess**3 >= abs(cube):\n",
    "        break\n",
    "if guess**3 != abs(cube):\n",
    "    print(cube, \"is not a perfect cube\")\n",
    "else:\n",
    "    if cube < 0:\n",
    "        guess = -guess\n",
    "    print(\"cube root of\"+str(cube)+\"is\"+str(guess))"
   ]
  },
  {
   "cell_type": "code",
   "execution_count": 37,
   "id": "75cde389-0116-4e19-aeab-75c5437aaa4f",
   "metadata": {},
   "outputs": [
    {
     "name": "stdout",
     "output_type": "stream",
     "text": [
      "Alyssa sold 255 tickets\n",
      "ben sold 235 tickets\n",
      "cindy sold 510 tickets\n"
     ]
    }
   ],
   "source": [
    "for alyssa in range(1001):\n",
    "    ben = max(alyssa-20,0)\n",
    "    cindy = alyssa*2\n",
    "    if ben + cindy + alyssa == 1000:\n",
    "        print(f'Alyssa sold {alyssa} tickets')\n",
    "        print(f'ben sold {ben} tickets')\n",
    "        print(f'cindy sold {cindy} tickets')\n",
    "        "
   ]
  },
  {
   "cell_type": "code",
   "execution_count": null,
   "id": "819d904b-5a68-49b8-8a0f-981a3c5e5d9e",
   "metadata": {},
   "outputs": [],
   "source": []
  },
  {
   "cell_type": "code",
   "execution_count": null,
   "id": "cc2e8cbf-89f9-4043-bfab-d16a5b910124",
   "metadata": {},
   "outputs": [],
   "source": []
  }
 ],
 "metadata": {
  "kernelspec": {
   "display_name": "Python 3 (ipykernel)",
   "language": "python",
   "name": "python3"
  },
  "language_info": {
   "codemirror_mode": {
    "name": "ipython",
    "version": 3
   },
   "file_extension": ".py",
   "mimetype": "text/x-python",
   "name": "python",
   "nbconvert_exporter": "python",
   "pygments_lexer": "ipython3",
   "version": "3.11.7"
  }
 },
 "nbformat": 4,
 "nbformat_minor": 5
}
